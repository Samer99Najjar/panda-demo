{
 "cells": [
  {
   "cell_type": "markdown",
   "id": "47a96385-3918-46e7-9605-46b0da960c1e",
   "metadata": {},
   "source": [
    "## Import Pandas"
   ]
  },
  {
   "cell_type": "code",
   "execution_count": 1,
   "id": "3569ecb3-a2f9-49dc-a34a-ba71fe5d7d73",
   "metadata": {},
   "outputs": [],
   "source": [
    "import pandas as pd"
   ]
  },
  {
   "cell_type": "markdown",
   "id": "88bad4d5-e9f4-46d3-b13a-b63886fc143f",
   "metadata": {},
   "source": [
    "## Read data and display the head of it to understand it"
   ]
  },
  {
   "cell_type": "code",
   "execution_count": 2,
   "id": "ac89855e-7e10-4e51-a6a0-e5220b30fdc1",
   "metadata": {},
   "outputs": [],
   "source": [
    "df = pd.read_csv('data/goalscorers.csv')"
   ]
  },
  {
   "cell_type": "code",
   "execution_count": 3,
   "id": "32d729c0-2b60-4251-bcbc-1b0b6d18a731",
   "metadata": {},
   "outputs": [
    {
     "data": {
      "text/html": [
       "<div>\n",
       "<style scoped>\n",
       "    .dataframe tbody tr th:only-of-type {\n",
       "        vertical-align: middle;\n",
       "    }\n",
       "\n",
       "    .dataframe tbody tr th {\n",
       "        vertical-align: top;\n",
       "    }\n",
       "\n",
       "    .dataframe thead th {\n",
       "        text-align: right;\n",
       "    }\n",
       "</style>\n",
       "<table border=\"1\" class=\"dataframe\">\n",
       "  <thead>\n",
       "    <tr style=\"text-align: right;\">\n",
       "      <th></th>\n",
       "      <th>date</th>\n",
       "      <th>home_team</th>\n",
       "      <th>away_team</th>\n",
       "      <th>team</th>\n",
       "      <th>scorer</th>\n",
       "      <th>minute</th>\n",
       "      <th>own_goal</th>\n",
       "      <th>penalty</th>\n",
       "    </tr>\n",
       "  </thead>\n",
       "  <tbody>\n",
       "    <tr>\n",
       "      <th>0</th>\n",
       "      <td>1916-07-02</td>\n",
       "      <td>Chile</td>\n",
       "      <td>Uruguay</td>\n",
       "      <td>Uruguay</td>\n",
       "      <td>José Piendibene</td>\n",
       "      <td>44.0</td>\n",
       "      <td>False</td>\n",
       "      <td>False</td>\n",
       "    </tr>\n",
       "    <tr>\n",
       "      <th>1</th>\n",
       "      <td>1916-07-02</td>\n",
       "      <td>Chile</td>\n",
       "      <td>Uruguay</td>\n",
       "      <td>Uruguay</td>\n",
       "      <td>Isabelino Gradín</td>\n",
       "      <td>55.0</td>\n",
       "      <td>False</td>\n",
       "      <td>False</td>\n",
       "    </tr>\n",
       "    <tr>\n",
       "      <th>2</th>\n",
       "      <td>1916-07-02</td>\n",
       "      <td>Chile</td>\n",
       "      <td>Uruguay</td>\n",
       "      <td>Uruguay</td>\n",
       "      <td>Isabelino Gradín</td>\n",
       "      <td>70.0</td>\n",
       "      <td>False</td>\n",
       "      <td>False</td>\n",
       "    </tr>\n",
       "    <tr>\n",
       "      <th>3</th>\n",
       "      <td>1916-07-02</td>\n",
       "      <td>Chile</td>\n",
       "      <td>Uruguay</td>\n",
       "      <td>Uruguay</td>\n",
       "      <td>José Piendibene</td>\n",
       "      <td>75.0</td>\n",
       "      <td>False</td>\n",
       "      <td>False</td>\n",
       "    </tr>\n",
       "    <tr>\n",
       "      <th>4</th>\n",
       "      <td>1916-07-06</td>\n",
       "      <td>Argentina</td>\n",
       "      <td>Chile</td>\n",
       "      <td>Argentina</td>\n",
       "      <td>Alberto Ohaco</td>\n",
       "      <td>2.0</td>\n",
       "      <td>False</td>\n",
       "      <td>False</td>\n",
       "    </tr>\n",
       "  </tbody>\n",
       "</table>\n",
       "</div>"
      ],
      "text/plain": [
       "         date  home_team away_team       team            scorer  minute  \\\n",
       "0  1916-07-02      Chile   Uruguay    Uruguay   José Piendibene    44.0   \n",
       "1  1916-07-02      Chile   Uruguay    Uruguay  Isabelino Gradín    55.0   \n",
       "2  1916-07-02      Chile   Uruguay    Uruguay  Isabelino Gradín    70.0   \n",
       "3  1916-07-02      Chile   Uruguay    Uruguay   José Piendibene    75.0   \n",
       "4  1916-07-06  Argentina     Chile  Argentina     Alberto Ohaco     2.0   \n",
       "\n",
       "  own_goal penalty  \n",
       "0    False   False  \n",
       "1    False   False  \n",
       "2    False   False  \n",
       "3    False   False  \n",
       "4    False   False  "
      ]
     },
     "execution_count": 3,
     "metadata": {},
     "output_type": "execute_result"
    }
   ],
   "source": [
    "df.head()"
   ]
  },
  {
   "cell_type": "code",
   "execution_count": 4,
   "id": "0004da95-2e29-4ccc-8a32-a9a0b73f5d7e",
   "metadata": {},
   "outputs": [
    {
     "data": {
      "text/plain": [
       "(43189, 8)"
      ]
     },
     "execution_count": 4,
     "metadata": {},
     "output_type": "execute_result"
    }
   ],
   "source": [
    "df.shape"
   ]
  },
  {
   "cell_type": "code",
   "execution_count": 5,
   "id": "0ad6ac00-1a2f-4c3a-ad01-70bc67a2803c",
   "metadata": {},
   "outputs": [
    {
     "name": "stdout",
     "output_type": "stream",
     "text": [
      "100.0\n"
     ]
    }
   ],
   "source": [
    "total_missing_values = df.isnull().sum().sum()\n",
    "remaining_missing_values = df.dropna().isnull().sum().sum()\n",
    "\n",
    "missing_values_handling_accuracy = ((total_missing_values - remaining_missing_values) / total_missing_values) * 100\n",
    "print( missing_values_handling_accuracy)"
   ]
  },
  {
   "cell_type": "markdown",
   "id": "e07e1175-894b-4e1b-bd44-0922a4c69d73",
   "metadata": {},
   "source": [
    "## After getting to know what the data look i calculated the average time of a goal in a game"
   ]
  },
  {
   "cell_type": "code",
   "execution_count": 6,
   "id": "a3dc94bd-d1b0-492f-86ba-f5027b0332e8",
   "metadata": {},
   "outputs": [],
   "source": [
    "total= df.shape[0]"
   ]
  },
  {
   "cell_type": "code",
   "execution_count": 7,
   "id": "e2f99b4b-aaed-4023-9efa-c0f3cba2c417",
   "metadata": {},
   "outputs": [],
   "source": [
    "avg_goal= df[\"minute\"].sum()/total"
   ]
  },
  {
   "cell_type": "code",
   "execution_count": 8,
   "id": "8c40e9eb-6c3c-4817-94b3-5ba5448a6dd8",
   "metadata": {},
   "outputs": [
    {
     "name": "stdout",
     "output_type": "stream",
     "text": [
      "49.73896130959272\n"
     ]
    }
   ],
   "source": [
    "print(avg_goal)"
   ]
  },
  {
   "cell_type": "markdown",
   "id": "f6534889-2556-4482-87eb-a0d95989ab90",
   "metadata": {},
   "source": [
    "## Now i want to know what percentage of goals are Own goals and how many are penalties"
   ]
  },
  {
   "cell_type": "code",
   "execution_count": 9,
   "id": "036f6233-4c9f-479c-9663-f1c38731de83",
   "metadata": {},
   "outputs": [],
   "source": [
    "own_goals= len(df[df[\"own_goal\"]==True])"
   ]
  },
  {
   "cell_type": "code",
   "execution_count": 10,
   "id": "f01667f7-fffb-446b-a878-c107a376e963",
   "metadata": {},
   "outputs": [
    {
     "name": "stdout",
     "output_type": "stream",
     "text": [
      "786\n"
     ]
    }
   ],
   "source": [
    "print(own_goals)"
   ]
  },
  {
   "cell_type": "code",
   "execution_count": 11,
   "id": "9b3d25e7-b84f-41e1-9758-aa809f40e694",
   "metadata": {},
   "outputs": [],
   "source": [
    "own_goals_per= own_goals/total*100"
   ]
  },
  {
   "cell_type": "code",
   "execution_count": 12,
   "id": "ee7cac65-4b1a-4fb8-baec-716f25a5faf7",
   "metadata": {},
   "outputs": [
    {
     "name": "stdout",
     "output_type": "stream",
     "text": [
      "1.8199078469054621\n"
     ]
    }
   ],
   "source": [
    "print(own_goals_per)"
   ]
  },
  {
   "cell_type": "code",
   "execution_count": 13,
   "id": "19c9bd1f-2076-4017-ad3b-af2d1084e33a",
   "metadata": {},
   "outputs": [],
   "source": [
    "penalties = len(df[df[\"penalty\"]==True])"
   ]
  },
  {
   "cell_type": "code",
   "execution_count": 14,
   "id": "267b27c9-f32a-4e07-a44e-23d6b8ed78fb",
   "metadata": {},
   "outputs": [
    {
     "name": "stdout",
     "output_type": "stream",
     "text": [
      "2885\n"
     ]
    }
   ],
   "source": [
    "print( penalties)"
   ]
  },
  {
   "cell_type": "code",
   "execution_count": 15,
   "id": "9529ec0e-0f4a-4ff6-9476-b602d6d2afaa",
   "metadata": {},
   "outputs": [],
   "source": [
    "penalties_per = penalties/total*100"
   ]
  },
  {
   "cell_type": "code",
   "execution_count": 16,
   "id": "e9430fd7-d323-4cdb-9f9a-a55986704e2c",
   "metadata": {},
   "outputs": [
    {
     "name": "stdout",
     "output_type": "stream",
     "text": [
      "6.6799416518094885\n"
     ]
    }
   ],
   "source": [
    "print(penalties_per)"
   ]
  },
  {
   "cell_type": "markdown",
   "id": "4918ecca-1a2a-43cf-a209-a5a051b896b9",
   "metadata": {},
   "source": [
    "## In this section i want to gather info about specific players and compare them"
   ]
  },
  {
   "cell_type": "code",
   "execution_count": 17,
   "id": "abd40889-d54a-43af-bd2c-f0f794f9d739",
   "metadata": {},
   "outputs": [
    {
     "name": "stdout",
     "output_type": "stream",
     "text": [
      "111\n"
     ]
    }
   ],
   "source": [
    "ronaldo_goals = len(df[df[\"scorer\"]==\"Cristiano Ronaldo\"])\n",
    "print(ronaldo_goals)"
   ]
  },
  {
   "cell_type": "code",
   "execution_count": 18,
   "id": "a5326d84-de07-47b3-8c10-6aecee01ce36",
   "metadata": {},
   "outputs": [
    {
     "name": "stdout",
     "output_type": "stream",
     "text": [
      "54\n"
     ]
    }
   ],
   "source": [
    "messi_goals =len(df[df[\"scorer\"]==\"Lionel Messi\"])\n",
    "print(messi_goals)"
   ]
  },
  {
   "cell_type": "code",
   "execution_count": 19,
   "id": "386c8d5d-d8ee-42e3-9d7e-dc9851b66f30",
   "metadata": {},
   "outputs": [
    {
     "name": "stdout",
     "output_type": "stream",
     "text": [
      "19\n"
     ]
    }
   ],
   "source": [
    "ronaldo_Pgoals= len(df[(df[\"scorer\"]==\"Cristiano Ronaldo\") & (df[\"penalty\"]==True)])\n",
    "print(ronaldo_Pgoals)"
   ]
  },
  {
   "cell_type": "code",
   "execution_count": 20,
   "id": "2cc894a7-5694-43c5-931c-53925df7b5f0",
   "metadata": {},
   "outputs": [
    {
     "name": "stdout",
     "output_type": "stream",
     "text": [
      "14\n"
     ]
    }
   ],
   "source": [
    "messi_Pgoals= len(df[(df[\"scorer\"]==\"Lionel Messi\") & (df[\"penalty\"]==True)])\n",
    "print(messi_Pgoals)"
   ]
  },
  {
   "cell_type": "code",
   "execution_count": 21,
   "id": "f2dab880-0d9a-4810-93d0-2ba250b5ca82",
   "metadata": {},
   "outputs": [
    {
     "name": "stdout",
     "output_type": "stream",
     "text": [
      "17.117117117117118\n",
      "25.925925925925924\n"
     ]
    }
   ],
   "source": [
    "ronaldo_p_pgoals = ronaldo_Pgoals/ ronaldo_goals *100\n",
    "messi_p_pgoals = messi_Pgoals/messi_goals *100\n",
    "print(ronaldo_p_pgoals)\n",
    "print(messi_p_pgoals)"
   ]
  },
  {
   "cell_type": "code",
   "execution_count": 22,
   "id": "13c8b4ff-8d1b-4c21-b134-066a15bd41f0",
   "metadata": {},
   "outputs": [
    {
     "name": "stdout",
     "output_type": "stream",
     "text": [
      "30.081300813008134\n",
      "24.88479262672811\n"
     ]
    }
   ],
   "source": [
    "portogal_goals= len(df[(df[\"team\"]== \"Portugal\") & (df[\"date\"] >'2004-06-12')])\n",
    "ronaldo_per = ronaldo_goals/ portogal_goals *100\n",
    "print(ronaldo_per)\n",
    "argantina_goals= len(df[(df[\"team\"]== \"Argentina\") & (df[\"date\"] >'2006-06-16')])\n",
    "messi_per = messi_goals/ argantina_goals *100\n",
    "print(messi_per)"
   ]
  },
  {
   "cell_type": "markdown",
   "id": "c0ab1ed5-1d29-45c2-92e2-5729db33d563",
   "metadata": {},
   "source": [
    "## now i want to make a table that compares between the two players states"
   ]
  },
  {
   "cell_type": "code",
   "execution_count": 23,
   "id": "aab6f584-3123-44bd-87ea-f320416e32bb",
   "metadata": {},
   "outputs": [],
   "source": [
    "tempdict = {'Ronaldo':[ronaldo_goals,ronaldo_Pgoals,ronaldo_p_pgoals,ronaldo_per], 'Messi':[messi_goals,messi_Pgoals,messi_p_pgoals,messi_per]}\n",
    "column_names = ['Ronaldo', 'Messi']\n",
    "row_names = ['Total_Goals', 'Penalty_Goals', 'Penalty_Percent','Goals_Per_from_county']\n",
    "dictdf = pd.DataFrame(tempdict, columns=column_names, index=row_names)"
   ]
  },
  {
   "cell_type": "code",
   "execution_count": 24,
   "id": "d24440ee-ef73-44b2-a13d-db85bc7ab41b",
   "metadata": {},
   "outputs": [
    {
     "name": "stdout",
     "output_type": "stream",
     "text": [
      "                          Ronaldo      Messi\n",
      "Total_Goals            111.000000  54.000000\n",
      "Penalty_Goals           19.000000  14.000000\n",
      "Penalty_Percent         17.117117  25.925926\n",
      "Goals_Per_from_county   30.081301  24.884793\n"
     ]
    }
   ],
   "source": [
    "print(dictdf)"
   ]
  },
  {
   "cell_type": "code",
   "execution_count": null,
   "id": "7d2c54c1-5e01-41d7-9996-c34992ff39f5",
   "metadata": {},
   "outputs": [],
   "source": []
  },
  {
   "cell_type": "code",
   "execution_count": null,
   "id": "9022bff5-71cc-4ec0-95f1-7e75b92cbe22",
   "metadata": {},
   "outputs": [],
   "source": []
  }
 ],
 "metadata": {
  "kernelspec": {
   "display_name": "Python 3 (ipykernel)",
   "language": "python",
   "name": "python3"
  },
  "language_info": {
   "codemirror_mode": {
    "name": "ipython",
    "version": 3
   },
   "file_extension": ".py",
   "mimetype": "text/x-python",
   "name": "python",
   "nbconvert_exporter": "python",
   "pygments_lexer": "ipython3",
   "version": "3.10.11"
  }
 },
 "nbformat": 4,
 "nbformat_minor": 5
}
